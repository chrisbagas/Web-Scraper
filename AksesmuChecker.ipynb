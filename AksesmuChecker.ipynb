{
 "cells": [
  {
   "cell_type": "code",
   "execution_count": 1,
   "metadata": {},
   "outputs": [],
   "source": [
    "from AksesmuScraper import AksesmuData\n",
    "\n",
    "targets = ['royco', 'bango', 'sariwangi',\n",
    "           'pepsodent white', 'lifebuoy',\n",
    "           'rexona', 'clear', 'sunsilk', 'glow lovely',\n",
    "           'sunlight', 'rinso molto', 'molto']"
   ]
  },
  {
   "cell_type": "code",
   "execution_count": 2,
   "metadata": {},
   "outputs": [
    {
     "name": "stdout",
     "output_type": "stream",
     "text": [
      "location:  Jakarta\n",
      "{}\n",
      "{'BANGO Kecap Manis 135 ml': ['9400', '9.400'], 'BANGO Kecap Manis Reffil 200ml': ['9600', '9.600'], 'BANGO Kecap Manis 18ml - RENCENG isi 12 sachet': ['9325', '10.000']}\n",
      "{}\n",
      "{'Pepsodent Pencegah Gigi Berlubang Pasta Gigi 75 g': ['4900', '5.100'], 'Pepsodent Pasta Gigi Economy 75gr + Sikat Gigi Brilian': ['6000', '6.000']}\n",
      "{'Lifebuoy Bar Soap Total 10 70 g': ['4000', '4.300'], 'Lifebuoy Bar Soap Lemon Fresh 70 g': ['4300', '4.300'], 'Lifebuoy Bar Soap Mild Care 70g': ['4300', '4.300']}\n",
      "{}\n",
      "{}\n",
      "{}\n",
      "{}\n",
      "{'Sunlight Sabun Cuci Piring Korean Strawberry 80ml': ['1600', '1.700']}\n",
      "{'Rinso Anti Noda + Molto Perfume Essence 200ml': ['4400', '4.500'], 'Rinso Deterjen Anti Noda + Molto Rose Fresh 195gr': ['13500', '13.500'], 'Rinso Deterjen Bubuk Anti Noda + Molto Perfume Essence 195 g': ['4400', '4.500'], 'Rinso Anti Noda + Molto Korean Strawberry 18ml - RENCENG isi 6 pcs  ': ['2400', '2.600'], 'Rinso Deterjen Anti Noda + Molto Perfume Essence 40gr - RENCENG isi 6 sachet': ['5100', '5.100'], 'Rinso Deterjen Anti Noda Classic 40g - RENCENG isi 6 sachet': ['4900', '4.900']}\n",
      "{'Molto All In One Blue 18ml - RENCENG isi 6pcs': ['5050', '5.200'], 'Molto All In One Pink 18ml - RENCENG isi 6pcs': ['5200', '5.200'], 'Molto All in 1 Pink New 9ml - RENCENG isi 12 sachet': ['4950', '4.950'], 'Molto All in 1 Blue New 9ml - RENCENG isi 12 sachet': ['4850', '4.950']}\n",
      "                                          productName  basePrice  finalPrice  \\\n",
      "0                            BANGO Kecap Manis 135 ml     9400.0      9400.0   \n",
      "1                      BANGO Kecap Manis Reffil 200ml     9600.0      9600.0   \n",
      "2      BANGO Kecap Manis 18ml - RENCENG isi 12 sachet    10000.0      9325.0   \n",
      "3   Pepsodent Pencegah Gigi Berlubang Pasta Gigi 75 g     5100.0      4900.0   \n",
      "4   Pepsodent Pasta Gigi Economy 75gr + Sikat Gigi...     6000.0      6000.0   \n",
      "5                     Lifebuoy Bar Soap Total 10 70 g     4300.0      4000.0   \n",
      "6                  Lifebuoy Bar Soap Lemon Fresh 70 g     4300.0      4300.0   \n",
      "7                     Lifebuoy Bar Soap Mild Care 70g     4300.0      4300.0   \n",
      "8   Sunlight Sabun Cuci Piring Korean Strawberry 80ml     1700.0      1600.0   \n",
      "9       Rinso Anti Noda + Molto Perfume Essence 200ml     4500.0      4400.0   \n",
      "10  Rinso Deterjen Anti Noda + Molto Rose Fresh 195gr    13500.0     13500.0   \n",
      "11  Rinso Deterjen Bubuk Anti Noda + Molto Perfume...     4500.0      4400.0   \n",
      "12  Rinso Anti Noda + Molto Korean Strawberry 18ml...     2600.0      2400.0   \n",
      "13  Rinso Deterjen Anti Noda + Molto Perfume Essen...     5100.0      5100.0   \n",
      "14  Rinso Deterjen Anti Noda Classic 40g - RENCENG...     4900.0      4900.0   \n",
      "15      Molto All In One Blue 18ml - RENCENG isi 6pcs     5200.0      5050.0   \n",
      "16      Molto All In One Pink 18ml - RENCENG isi 6pcs     5200.0      5200.0   \n",
      "17  Molto All in 1 Pink New 9ml - RENCENG isi 12 s...     4950.0      4950.0   \n",
      "18  Molto All in 1 Blue New 9ml - RENCENG isi 12 s...     4950.0      4850.0   \n",
      "\n",
      "   location  \n",
      "0   Jakarta  \n",
      "1   Jakarta  \n",
      "2   Jakarta  \n",
      "3   Jakarta  \n",
      "4   Jakarta  \n",
      "5   Jakarta  \n",
      "6   Jakarta  \n",
      "7   Jakarta  \n",
      "8   Jakarta  \n",
      "9   Jakarta  \n",
      "10  Jakarta  \n",
      "11  Jakarta  \n",
      "12  Jakarta  \n",
      "13  Jakarta  \n",
      "14  Jakarta  \n",
      "15  Jakarta  \n",
      "16  Jakarta  \n",
      "17  Jakarta  \n",
      "18  Jakarta  \n"
     ]
    }
   ],
   "source": [
    "aksesmu_scrapper = AksesmuData(\n",
    "    '7.1.2', '127.0.0.1:5555', ['Jakarta'], targets)\n",
    "# aksesmu_scrapper.scrape()\n",
    "aksesmu_scrapper.extractor()\n",
    "print(aksesmu_scrapper.result)"
   ]
  },
  {
   "cell_type": "code",
   "execution_count": 3,
   "metadata": {},
   "outputs": [
    {
     "name": "stdout",
     "output_type": "stream",
     "text": [
      "Items from the check list not found in the product names:\n",
      "['rexona', 'glow', 'rinso molto']\n"
     ]
    }
   ],
   "source": [
    "import pandas as pd\n",
    "from datetime import datetime\n",
    "\n",
    "\n",
    "check = ['royco', 'bango', 'sariwangi',\n",
    "           'pepsodent', 'lifebuoy',\n",
    "           'rexona', 'clear', 'sunsilk', 'glow',\n",
    "           'sunlight', 'rinso molto', 'molto']\n",
    "\n",
    "# file_name = f\"../Aksesmu/AKSESMU_{datetime.now().strftime('%y%m%d')}.xlsx\"\n",
    "file_name = f\"../Aksesmu/AKSESMU_250602.xlsx\"\n",
    "df = pd.read_excel(file_name)\n",
    "df.head()\n",
    "\n",
    "# Convert 'productName' column to lowercase for case-insensitive matching\n",
    "product_names = df['productName'].str.lower()\n",
    "\n",
    "# Check for items in 'check' that are not found in any of the product names\n",
    "missing_in_df = [item for item in check if not product_names.str.contains(item).any()]\n",
    "\n",
    "# Display the list of items from 'check' that are not in the DataFrame\n",
    "print(\"Items from the check list not found in the product names:\")\n",
    "print(missing_in_df)"
   ]
  },
  {
   "cell_type": "code",
   "execution_count": 4,
   "metadata": {},
   "outputs": [
    {
     "name": "stdout",
     "output_type": "stream",
     "text": [
      "location:  Jakarta\n",
      "{}\n",
      "{}\n",
      "{'Rinso Anti Noda + Molto Perfume Essence 200ml': ['4400', '4.500'], 'Rinso Deterjen Anti Noda + Molto Rose Fresh 195gr': ['13500', '13.500'], 'Rinso Deterjen Bubuk Anti Noda + Molto Perfume Essence 195 g': ['4400', '4.500'], 'Rinso Anti Noda + Molto Korean Strawberry 18ml - RENCENG isi 6 pcs  ': ['2400', '2.600'], 'Rinso Deterjen Anti Noda + Molto Perfume Essence 40gr - RENCENG isi 6 sachet': ['5100', '5.100'], 'Rinso Deterjen Anti Noda Classic 40g - RENCENG isi 6 sachet': ['4900', '4.900']}\n"
     ]
    }
   ],
   "source": [
    "aksesmu_scrapper = AksesmuData(\n",
    "    '7.1.2', '127.0.0.1:5555', ['Jakarta'], missing_in_df)\n",
    "aksesmu_scrapper.extractor(file_name)"
   ]
  },
  {
   "cell_type": "code",
   "execution_count": 5,
   "metadata": {},
   "outputs": [],
   "source": [
    "# df = pd.read_excel(file_name)\n",
    "# df['combinedProductName'] = df['productName'] + df['unit']\n",
    "# df.head()\n",
    "# df.to_excel(file_name, index=False)"
   ]
  },
  {
   "cell_type": "code",
   "execution_count": null,
   "metadata": {},
   "outputs": [],
   "source": []
  }
 ],
 "metadata": {
  "kernelspec": {
   "display_name": "Python 3",
   "language": "python",
   "name": "python3"
  },
  "language_info": {
   "codemirror_mode": {
    "name": "ipython",
    "version": 3
   },
   "file_extension": ".py",
   "mimetype": "text/x-python",
   "name": "python",
   "nbconvert_exporter": "python",
   "pygments_lexer": "ipython3",
   "version": "3.11.0"
  }
 },
 "nbformat": 4,
 "nbformat_minor": 2
}
