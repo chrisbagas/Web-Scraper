{
 "cells": [
  {
   "cell_type": "code",
   "execution_count": 3,
   "metadata": {},
   "outputs": [],
   "source": [
    "import requests\n",
    "from bs4 import BeautifulSoup\n",
    "import pandas as pd\n",
    "import time\n",
    "\n",
    "# DataFrame to store product information\n",
    "promo_sku = pd.DataFrame(columns=[\"productName\", \"basePrice\", \"finalPrice\", \"discountPercent\"])\n",
    "\n",
    "# Headers for the request\n",
    "headers = {\n",
    "    'User-Agent': 'Mozilla/5.0 (Windows NT 10.0; Win64; x64; rv:131.0) Gecko/20100101 Firefox/131.0',\n",
    "    'Accept': '*/*',\n",
    "    'Accept-Language': 'en-US,en;q=0.5',\n",
    "    'Referer': 'https://www.tokopedia.com/unilever/',\n",
    "    'X-Tkpd-Lite-Service': 'zeus',\n",
    "    'X-Version': '1227cf6',\n",
    "    'content-type': 'application/json',\n",
    "    'X-Device': 'default_v3',\n",
    "    'X-Source': 'tokopedia-lite',\n",
    "    'Origin': 'https://www.tokopedia.com',\n",
    "    'Connection': 'keep-alive'\n",
    "}\n",
    "\n",
    "def convert_price(price_str):\n",
    "    return int(price_str.replace('Rp', '').replace('.', '').strip())\n",
    "\n",
    "def get_product_data(promo_sku):\n",
    "    # List to store individual product data\n",
    "    products_data = []\n",
    "    try:\n",
    "        for i in range(80):\n",
    "            response = requests.post(f'https://www.tokopedia.com/unilever/product/page/{i}', headers=headers)\n",
    "            soup = BeautifulSoup(response.content, 'html.parser')\n",
    "            \n",
    "            # Find the product cards using the testid\n",
    "            product_cards = soup.find_all('div', {'data-testid': 'master-product-card'})\n",
    "            \n",
    "            for product_card in product_cards:\n",
    "                # Extracting product details if the product card exists\n",
    "                if product_card:\n",
    "                    # Extract the product name\n",
    "                    product_name = product_card.find('div', {'data-testid': 'linkProductName'}).text\n",
    "                    \n",
    "                    # Extract the product price (final price)\n",
    "                    product_price = product_card.find('div', {'data-testid': 'linkProductPrice'}).text\n",
    "                    final_price = convert_price(product_price)\n",
    "                    \n",
    "                    # Extract the discount (if available)\n",
    "                    product_discount = product_card.find('div', {'data-testid': 'lblProductDiscount'})\n",
    "                    discount_percent = float(product_discount.text.replace(\"%\", \"\")) if product_discount else 0\n",
    "                    \n",
    "                    # Extract the original price (if available)\n",
    "                    original_price = product_card.find('div', {'data-testid': 'lblProductSlashPrice'})\n",
    "                    base_price = convert_price(original_price.text) if original_price else final_price\n",
    "                    \n",
    "                    # Append the data to the list\n",
    "                    products_data.append([product_name, base_price, final_price, discount_percent])\n",
    "            \n",
    "            # Insert into the DataFrame and remove duplicates\n",
    "            promo_sku = pd.concat([promo_sku, pd.DataFrame(products_data, columns=[\"productName\", \"basePrice\", \"finalPrice\", \"discountPercent\"])], ignore_index=True)\n",
    "            promo_sku.drop_duplicates(subset=[\"productName\"], inplace=True)\n",
    "\n",
    "            # Wait before the next request to avoid getting blocked\n",
    "            time.sleep(1)\n",
    "    except Exception as e:\n",
    "        print(f\"Error: {e}\")\n",
    "    return promo_sku\n",
    "\n"
   ]
  },
  {
   "cell_type": "code",
   "execution_count": 4,
   "metadata": {},
   "outputs": [
    {
     "name": "stderr",
     "output_type": "stream",
     "text": [
      "C:\\Temp\\ipykernel_20568\\1790456119.py:60: FutureWarning: The behavior of DataFrame concatenation with empty or all-NA entries is deprecated. In a future version, this will no longer exclude empty or all-NA columns when determining the result dtypes. To retain the old behavior, exclude the relevant entries before the concat operation.\n",
      "  promo_sku = pd.concat([promo_sku, pd.DataFrame(products_data, columns=[\"productName\", \"basePrice\", \"finalPrice\", \"discountPercent\"])], ignore_index=True)\n"
     ]
    },
    {
     "name": "stdout",
     "output_type": "stream",
     "text": [
      "                                           productName basePrice finalPrice  \\\n",
      "0                    Citra Pearly Glow Uv Lotion 120Ml     17900      12900   \n",
      "1                Closeup White Fresh Charcoal Mint 95g     35900      25600   \n",
      "2                FREE Molto Trika Japanese Peach 300ml   1000000    1000000   \n",
      "3                  FREE Molto Trika Floral Bliss 300ml   1000000    1000000   \n",
      "4                FREE Rinso Kapsul Lavender Fresh 126g   1000000    1000000   \n",
      "..                                                 ...       ...        ...   \n",
      "745  Lux Body Wash Sabun Mandi Cair Pump Soft Rose ...     86800      81500   \n",
      "746  Vixal Pembersih Porselen Kuat Harum 780ml Free...     59700      33500   \n",
      "747  Dove Hair Tonic Intensive Leave On Treatment 5...     79800      57000   \n",
      "748  Lifebuoy Sabun Cair Shiso & Sandalwood 900ml i...    180800     102300   \n",
      "749  Molto All-In-1 Pink Pewangi & Pelembut 720Ml F...    150700      68900   \n",
      "\n",
      "     discountPercent  \n",
      "0               28.0  \n",
      "1               29.0  \n",
      "2                0.0  \n",
      "3                0.0  \n",
      "4                0.0  \n",
      "..               ...  \n",
      "745              6.0  \n",
      "746             44.0  \n",
      "747             29.0  \n",
      "748             43.0  \n",
      "749             54.0  \n",
      "\n",
      "[750 rows x 4 columns]\n"
     ]
    }
   ],
   "source": [
    "\n",
    "# Execute the function and get the product data\n",
    "promo_sku = get_product_data(promo_sku)\n",
    "\n",
    "# Display the DataFrame\n",
    "print(promo_sku)"
   ]
  },
  {
   "cell_type": "code",
   "execution_count": 5,
   "metadata": {},
   "outputs": [],
   "source": [
    "from datetime import datetime\n",
    "\n",
    "file_name = f\"../tokopedia/TOKOPEDIA_{datetime.now().strftime('%y%m%d')}.xlsx\"\n",
    "promo_sku.to_excel(file_name,index=False)"
   ]
  }
 ],
 "metadata": {
  "kernelspec": {
   "display_name": "Python 3",
   "language": "python",
   "name": "python3"
  },
  "language_info": {
   "codemirror_mode": {
    "name": "ipython",
    "version": 3
   },
   "file_extension": ".py",
   "mimetype": "text/x-python",
   "name": "python",
   "nbconvert_exporter": "python",
   "pygments_lexer": "ipython3",
   "version": "3.11.0"
  }
 },
 "nbformat": 4,
 "nbformat_minor": 2
}
